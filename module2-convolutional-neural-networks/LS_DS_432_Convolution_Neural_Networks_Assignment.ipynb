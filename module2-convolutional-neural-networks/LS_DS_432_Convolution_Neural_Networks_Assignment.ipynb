{
  "nbformat": 4,
  "nbformat_minor": 0,
  "metadata": {
    "kernelspec": {
      "display_name": "U4-S2-NNF-DS10",
      "language": "python",
      "name": "u4-s2-nnf-ds10"
    },
    "language_info": {
      "codemirror_mode": {
        "name": "ipython",
        "version": 3
      },
      "file_extension": ".py",
      "mimetype": "text/x-python",
      "name": "python",
      "nbconvert_exporter": "python",
      "pygments_lexer": "ipython3",
      "version": "3.7.6"
    },
    "nteract": {
      "version": "0.23.1"
    },
    "colab": {
      "name": "LS_DS_432_Convolution_Neural_Networks_Assignment.ipynb",
      "provenance": []
    }
  },
  "cells": [
    {
      "cell_type": "markdown",
      "metadata": {
        "id": "8_SZOFlFdGr8",
        "colab_type": "text"
      },
      "source": [
        "<img align=\"left\" src=\"https://lever-client-logos.s3.amazonaws.com/864372b1-534c-480e-acd5-9711f850815c-1524247202159.png\" width=200>\n",
        "<br></br>\n",
        "<br></br>\n",
        "\n",
        "## *Data Science Unit 4 Sprint 3 Assignment 2*\n",
        "# Convolutional Neural Networks (CNNs)"
      ]
    },
    {
      "cell_type": "markdown",
      "metadata": {
        "colab_type": "text",
        "id": "0lfZdD_cp1t5"
      },
      "source": [
        "# Assignment\n",
        "\n",
        "- <a href=\"#p1\">Part 1:</a> Pre-Trained Model\n",
        "- <a href=\"#p2\">Part 2:</a> Custom CNN Model\n",
        "- <a href=\"#p3\">Part 3:</a> CNN with Data Augmentation\n",
        "\n",
        "\n",
        "You will apply three different CNN models to a binary image classification model using Keras. Classify images of Mountains (`./data/train/mountain/*`) and images of forests (`./data/train/forest/*`). Treat mountains as the positive class (1) and the forest images as the negative (zero). \n",
        "\n",
        "|Mountain (+)|Forest (-)|\n",
        "|---|---|\n",
        "|![](https://github.com/lfr4704/DS-Unit-4-Sprint-3-Deep-Learning/blob/main/module2-convolutional-neural-networks/data/train/mountain/art1131.jpg?raw=1)|![](https://github.com/lfr4704/DS-Unit-4-Sprint-3-Deep-Learning/blob/main/module2-convolutional-neural-networks/data/validation/forest/cdmc317.jpg?raw=1)|\n",
        "\n",
        "The problem is relatively difficult given that the sample is tiny: there are about 350 observations per class. This sample size might be something that you can expect with prototyping an image classification problem/solution at work. Get accustomed to evaluating several different possible models."
      ]
    },
    {
      "cell_type": "markdown",
      "metadata": {
        "colab_type": "text",
        "id": "IYHASfxxdGr-"
      },
      "source": [
        "# Pre - Trained Model\n",
        "<a id=\"p1\"></a>\n",
        "\n",
        "Load a pretrained network from Keras, [ResNet50](https://tfhub.dev/google/imagenet/resnet_v1_50/classification/1) - a 50 layer deep network trained to recognize [1000 objects](https://storage.googleapis.com/download.tensorflow.org/data/ImageNetLabels.txt). Starting usage:\n",
        "\n",
        "```python\n",
        "import numpy as np\n",
        "\n",
        "from tensorflow.keras.applications.resnet50 import ResNet50\n",
        "from tensorflow.keras.preprocessing import image\n",
        "from tensorflow.keras.applications.resnet50 import preprocess_input, decode_predictions\n",
        "\n",
        "from tensorflow.keras.layers import Dense, GlobalAveragePooling2D\n",
        "from tensorflow.keras.models import Model # This is the functional API\n",
        "\n",
        "resnet = ResNet50(weights='imagenet', include_top=False)\n",
        "\n",
        "```\n",
        "\n",
        "The `include_top` parameter in `ResNet50` will remove the full connected layers from the ResNet model. The next step is to turn off the training of the ResNet layers. We want to use the learned parameters without updating them in future training passes. \n",
        "\n",
        "```python\n",
        "for layer in resnet.layers:\n",
        "    layer.trainable = False\n",
        "```\n",
        "\n",
        "Using the Keras functional API, we will need to additional additional full connected layers to our model. We we removed the top layers, we removed all preivous fully connected layers. In other words, we kept only the feature processing portions of our network. You can expert with additional layers beyond what's listed here. The `GlobalAveragePooling2D` layer functions as a really fancy flatten function by taking the average of each of the last convolutional layer outputs (which is two dimensional still). \n",
        "\n",
        "```python\n",
        "x = resnet.output\n",
        "x = GlobalAveragePooling2D()(x) # This layer is a really fancy flatten\n",
        "x = Dense(1024, activation='relu')(x)\n",
        "predictions = Dense(1, activation='sigmoid')(x)\n",
        "model = Model(resnet.input, predictions)\n",
        "```\n",
        "\n",
        "Your assignment is to apply the transfer learning above to classify images of Mountains (`./data/train/mountain/*`) and images of forests (`./data/train/forest/*`). Treat mountains as the positive class (1) and the forest images as the negative (zero). \n",
        "\n",
        "Steps to complete assignment: \n",
        "1. Load in Image Data into numpy arrays (`X`) \n",
        "2. Create a `y` for the labels\n",
        "3. Train your model with pre-trained layers from resnet\n",
        "4. Report your model's accuracy"
      ]
    },
    {
      "cell_type": "markdown",
      "metadata": {
        "id": "zfk8WtEedGr_",
        "colab_type": "text"
      },
      "source": [
        "## Load in Data\n",
        "\n",
        "This surprisingly more difficult than it seems, because you are working with directories of images instead of a single file. This boiler plate will help you download a zipped version of the directory of images. The directory is organized into \"train\" and \"validation\" which you can use inside an `ImageGenerator` class to stream batches of images thru your model.  \n"
      ]
    },
    {
      "cell_type": "markdown",
      "metadata": {
        "id": "w3D-lu8DdGsA",
        "colab_type": "text"
      },
      "source": [
        "### Download & Summarize the Data\n",
        "\n",
        "This step is completed for you. Just run the cells and review the results. "
      ]
    },
    {
      "cell_type": "code",
      "metadata": {
        "id": "UvhaJ-W3dGsA",
        "colab_type": "code",
        "colab": {}
      },
      "source": [
        "import tensorflow as tf\n",
        "import os\n",
        "\n",
        "_URL = 'https://github.com/LambdaSchool/DS-Unit-4-Sprint-3-Deep-Learning/blob/master/module2-convolutional-neural-networks/data.zip?raw=true'\n",
        "\n",
        "path_to_zip = tf.keras.utils.get_file('./data.zip', origin=_URL, extract=True)\n",
        "PATH = os.path.join(os.path.dirname(path_to_zip), 'data')"
      ],
      "execution_count": 24,
      "outputs": []
    },
    {
      "cell_type": "code",
      "metadata": {
        "id": "GaPCtbsBlbnQ",
        "colab_type": "code",
        "colab": {}
      },
      "source": [
        "train_dir =  'sample_data/data/train'\n",
        "validation_dir = 'sample_data/data/validation'"
      ],
      "execution_count": 28,
      "outputs": []
    },
    {
      "cell_type": "code",
      "metadata": {
        "id": "CMemZjU4dGsH",
        "colab_type": "code",
        "colab": {}
      },
      "source": [
        "train_mountain_dir = 'sample_data/data/train/mountain'  # directory with our training cat pictures\n",
        "train_forest_dir = 'sample_data/data/train/forest'  # directory with our training dog pictures\n",
        "validation_mountain_dir = 'sample_data/data/validation/mountain'  # directory with our validation cat pictures\n",
        "validation_forest_dir = 'sample_data/data/validation/forest'  # directory with our validation dog pictures"
      ],
      "execution_count": 17,
      "outputs": []
    },
    {
      "cell_type": "code",
      "metadata": {
        "id": "4_xHl-I8dGsK",
        "colab_type": "code",
        "colab": {}
      },
      "source": [
        "num_mountain_tr = len(os.listdir(train_mountain_dir))\n",
        "num_forest_tr = len(os.listdir(train_forest_dir))\n",
        "\n",
        "num_mountain_val = len(os.listdir(validation_mountain_dir))\n",
        "num_forest_val = len(os.listdir(validation_forest_dir))\n",
        "\n",
        "total_train = num_mountain_tr + num_forest_tr\n",
        "total_val = num_mountain_val + num_forest_val"
      ],
      "execution_count": 18,
      "outputs": []
    },
    {
      "cell_type": "code",
      "metadata": {
        "id": "BPgHcABBdGsN",
        "colab_type": "code",
        "colab": {
          "base_uri": "https://localhost:8080/",
          "height": 140
        },
        "outputId": "8c1db9d3-a74c-423c-8284-d553fa1bdff7"
      },
      "source": [
        "print('total training mountain images:', num_mountain_tr)\n",
        "print('total training forest images:', num_forest_tr)\n",
        "\n",
        "print('total validation mountain images:', num_mountain_val)\n",
        "print('total validation forest images:', num_forest_val)\n",
        "print(\"--\")\n",
        "print(\"Total training images:\", total_train)\n",
        "print(\"Total validation images:\", total_val)"
      ],
      "execution_count": 19,
      "outputs": [
        {
          "output_type": "stream",
          "text": [
            "total training mountain images: 252\n",
            "total training forest images: 268\n",
            "total validation mountain images: 122\n",
            "total validation forest images: 60\n",
            "--\n",
            "Total training images: 520\n",
            "Total validation images: 182\n"
          ],
          "name": "stdout"
        }
      ]
    },
    {
      "cell_type": "markdown",
      "metadata": {
        "id": "_zFSARLGdGsQ",
        "colab_type": "text"
      },
      "source": [
        "### Keras `ImageGenerator` to Process the Data\n",
        "\n",
        "This step is completed for you, but please review the code. The `ImageGenerator` class reads in batches of data from a directory and pass them to the model one batch at a time. Just like large text files, this method is advantageous, because it stifles the need to load a bunch of images into memory. \n",
        "\n",
        "Check out the documentation for this class method: [Keras `ImageGenerator` Class](https://keras.io/preprocessing/image/#imagedatagenerator-class). You'll expand it's use in the third assignment objective."
      ]
    },
    {
      "cell_type": "code",
      "metadata": {
        "id": "m9mN9hL3dGsR",
        "colab_type": "code",
        "colab": {}
      },
      "source": [
        "batch_size = 16\n",
        "epochs = 50\n",
        "IMG_HEIGHT = 224\n",
        "IMG_WIDTH = 224"
      ],
      "execution_count": 29,
      "outputs": []
    },
    {
      "cell_type": "code",
      "metadata": {
        "id": "Er8ZMvu1dGsU",
        "colab_type": "code",
        "colab": {}
      },
      "source": [
        "from tensorflow.keras.preprocessing.image import ImageDataGenerator\n",
        "\n",
        "train_image_generator = ImageDataGenerator(rescale=1./255) # Generator for our training data\n",
        "validation_image_generator = ImageDataGenerator(rescale=1./255) # Generator for our validation data"
      ],
      "execution_count": 30,
      "outputs": []
    },
    {
      "cell_type": "code",
      "metadata": {
        "id": "p6xc4aDRdGsX",
        "colab_type": "code",
        "colab": {
          "base_uri": "https://localhost:8080/",
          "height": 34
        },
        "outputId": "edb685ed-e40f-46a1-caa2-0ac42e1ea352"
      },
      "source": [
        "train_data_gen = train_image_generator.flow_from_directory(batch_size=batch_size,\n",
        "                                                           directory=train_dir,\n",
        "                                                           shuffle=True,\n",
        "                                                           target_size=(IMG_HEIGHT, IMG_WIDTH),\n",
        "                                                           class_mode='binary')"
      ],
      "execution_count": 31,
      "outputs": [
        {
          "output_type": "stream",
          "text": [
            "Found 520 images belonging to 3 classes.\n"
          ],
          "name": "stdout"
        }
      ]
    },
    {
      "cell_type": "code",
      "metadata": {
        "id": "giSaQxaKdGsa",
        "colab_type": "code",
        "colab": {
          "base_uri": "https://localhost:8080/",
          "height": 34
        },
        "outputId": "0ffc7f94-4a7c-406a-fca1-19aa866c1fb2"
      },
      "source": [
        "val_data_gen = validation_image_generator.flow_from_directory(batch_size=batch_size,\n",
        "                                                              directory=validation_dir,\n",
        "                                                              target_size=(IMG_HEIGHT, IMG_WIDTH),\n",
        "                                                              class_mode='binary')"
      ],
      "execution_count": 32,
      "outputs": [
        {
          "output_type": "stream",
          "text": [
            "Found 182 images belonging to 3 classes.\n"
          ],
          "name": "stdout"
        }
      ]
    },
    {
      "cell_type": "markdown",
      "metadata": {
        "id": "1yFoJObgdGsd",
        "colab_type": "text"
      },
      "source": [
        "## Instatiate Model"
      ]
    },
    {
      "cell_type": "code",
      "metadata": {
        "id": "LB_MQfzgdGse",
        "colab_type": "code",
        "colab": {}
      },
      "source": [
        "# Tensorflow hub example\n",
        "import tensorflow_hub as hub\n",
        "\n",
        "model = tf.keras.Sequential([\n",
        "    hub.KerasLayer(\"https://tfhub.dev/google/tf2-preview/mobilenet_v2/feature_vector/4\", output_shape=[1280],\n",
        "                   trainable=False),  # Can be True, see below.\n",
        "    tf.keras.layers.Dense(1, activation='sigmoid')\n",
        "])\n",
        "model.build([None, IMG_HEIGHT, IMG_WIDTH, 3])"
      ],
      "execution_count": 34,
      "outputs": []
    },
    {
      "cell_type": "code",
      "metadata": {
        "id": "uEf7QMukmR1Z",
        "colab_type": "code",
        "colab": {
          "base_uri": "https://localhost:8080/",
          "height": 228
        },
        "outputId": "71d0db12-7ca7-47e9-a776-334ad723cbb5"
      },
      "source": [
        "model.summary()"
      ],
      "execution_count": 35,
      "outputs": [
        {
          "output_type": "stream",
          "text": [
            "Model: \"sequential\"\n",
            "_________________________________________________________________\n",
            "Layer (type)                 Output Shape              Param #   \n",
            "=================================================================\n",
            "keras_layer (KerasLayer)     (None, 1280)              2257984   \n",
            "_________________________________________________________________\n",
            "dense (Dense)                (None, 1)                 1281      \n",
            "=================================================================\n",
            "Total params: 2,259,265\n",
            "Trainable params: 1,281\n",
            "Non-trainable params: 2,257,984\n",
            "_________________________________________________________________\n"
          ],
          "name": "stdout"
        }
      ]
    },
    {
      "cell_type": "code",
      "metadata": {
        "id": "eReuT9smmbDO",
        "colab_type": "code",
        "colab": {
          "base_uri": "https://localhost:8080/",
          "height": 125
        },
        "outputId": "107b4bb0-67de-4fed-8218-2467c8088a1f"
      },
      "source": [
        "# Compile and train\n",
        "\n",
        "model.compile(optimizer='adam',\n",
        "              loss='binary_crossentropy',\n",
        "              metrics=['accuracy'])\n",
        "\n",
        "model.fit(train_data_gen,\n",
        "          steps_per_epoch=2000//batch_size,\n",
        "          epochs=epochs,\n",
        "          validation_data=val_data_gen)"
      ],
      "execution_count": 37,
      "outputs": [
        {
          "output_type": "stream",
          "text": [
            "Epoch 1/50\n",
            " 33/125 [======>.......................] - ETA: 49s - loss: -2.4115 - accuracy: 0.5077WARNING:tensorflow:Your input ran out of data; interrupting training. Make sure that your dataset or generator can generate at least `steps_per_epoch * epochs` batches (in this case, 6250 batches). You may need to use the repeat() function when building your dataset.\n"
          ],
          "name": "stdout"
        },
        {
          "output_type": "stream",
          "text": [
            "WARNING:tensorflow:Your input ran out of data; interrupting training. Make sure that your dataset or generator can generate at least `steps_per_epoch * epochs` batches (in this case, 6250 batches). You may need to use the repeat() function when building your dataset.\n"
          ],
          "name": "stderr"
        },
        {
          "output_type": "stream",
          "text": [
            "\b\b\b\b\b\b\b\b\b\b\b\b\b\b\b\b\b\b\b\b\b\b\b\b\b\b\b\b\b\b\b\b\b\b\b\b\b\b\b\b\b\b\b\b\b\b\b\b\b\b\b\b\b\b\b\b\b\b\b\b\b\b\b\b\b\b\b\b\b\b\b\b\b\b\b\b\b\b\b\b\b\b\b\b\b\b\r 33/125 [======>.......................] - 25s 752ms/step - loss: -2.4115 - accuracy: 0.5077 - val_loss: -6.9523 - val_accuracy: 0.3297\n"
          ],
          "name": "stdout"
        },
        {
          "output_type": "execute_result",
          "data": {
            "text/plain": [
              "<tensorflow.python.keras.callbacks.History at 0x7fd6ec54f9e8>"
            ]
          },
          "metadata": {
            "tags": []
          },
          "execution_count": 37
        }
      ]
    },
    {
      "cell_type": "markdown",
      "metadata": {
        "id": "ZKcG9PTDdGsh",
        "colab_type": "text"
      },
      "source": [
        "## Fit Model"
      ]
    },
    {
      "cell_type": "code",
      "metadata": {
        "id": "x3V12ZjKdGsh",
        "colab_type": "code",
        "colab": {
          "base_uri": "https://localhost:8080/",
          "height": 1000
        },
        "outputId": "45706be4-2211-47fd-8fd4-5e25fb9e3c3e"
      },
      "source": [
        "history = model.fit(\n",
        "    train_data_gen,\n",
        "    steps_per_epoch=total_train // batch_size,\n",
        "    epochs=epochs,\n",
        "    validation_data=val_data_gen,\n",
        "    validation_steps=total_val // batch_size\n",
        ")"
      ],
      "execution_count": 38,
      "outputs": [
        {
          "output_type": "stream",
          "text": [
            "Epoch 1/50\n",
            "32/32 [==============================] - 24s 735ms/step - loss: -6.9136 - accuracy: 0.5159 - val_loss: -13.0141 - val_accuracy: 0.3295\n",
            "Epoch 2/50\n",
            "32/32 [==============================] - 23s 732ms/step - loss: -11.3761 - accuracy: 0.5159 - val_loss: -19.7579 - val_accuracy: 0.3295\n",
            "Epoch 3/50\n",
            "32/32 [==============================] - 23s 731ms/step - loss: -16.0047 - accuracy: 0.5119 - val_loss: -26.4986 - val_accuracy: 0.3239\n",
            "Epoch 4/50\n",
            "32/32 [==============================] - 23s 729ms/step - loss: -20.6791 - accuracy: 0.5119 - val_loss: -32.9629 - val_accuracy: 0.3239\n",
            "Epoch 5/50\n",
            "32/32 [==============================] - 23s 728ms/step - loss: -25.3394 - accuracy: 0.5119 - val_loss: -39.6923 - val_accuracy: 0.3239\n",
            "Epoch 6/50\n",
            "32/32 [==============================] - 23s 730ms/step - loss: -29.8871 - accuracy: 0.5139 - val_loss: -45.2424 - val_accuracy: 0.3352\n",
            "Epoch 7/50\n",
            "32/32 [==============================] - 23s 727ms/step - loss: -34.7669 - accuracy: 0.5119 - val_loss: -52.7223 - val_accuracy: 0.3295\n",
            "Epoch 8/50\n",
            "32/32 [==============================] - 23s 726ms/step - loss: -39.2285 - accuracy: 0.5159 - val_loss: -58.8053 - val_accuracy: 0.3295\n",
            "Epoch 9/50\n",
            "32/32 [==============================] - 23s 725ms/step - loss: -43.7634 - accuracy: 0.5139 - val_loss: -66.4763 - val_accuracy: 0.3239\n",
            "Epoch 10/50\n",
            "32/32 [==============================] - 23s 724ms/step - loss: -48.2291 - accuracy: 0.5179 - val_loss: -72.9697 - val_accuracy: 0.3239\n",
            "Epoch 11/50\n",
            "32/32 [==============================] - 23s 723ms/step - loss: -53.5928 - accuracy: 0.5119 - val_loss: -78.5788 - val_accuracy: 0.3295\n",
            "Epoch 12/50\n",
            "32/32 [==============================] - 23s 725ms/step - loss: -57.0063 - accuracy: 0.5198 - val_loss: -85.5899 - val_accuracy: 0.3352\n",
            "Epoch 13/50\n",
            "32/32 [==============================] - 23s 717ms/step - loss: -61.1343 - accuracy: 0.5258 - val_loss: -91.8506 - val_accuracy: 0.3352\n",
            "Epoch 14/50\n",
            "32/32 [==============================] - 23s 716ms/step - loss: -67.0958 - accuracy: 0.5159 - val_loss: -100.6212 - val_accuracy: 0.3182\n",
            "Epoch 15/50\n",
            "32/32 [==============================] - 23s 718ms/step - loss: -71.1635 - accuracy: 0.5179 - val_loss: -105.5731 - val_accuracy: 0.3352\n",
            "Epoch 16/50\n",
            "32/32 [==============================] - 23s 722ms/step - loss: -75.6180 - accuracy: 0.5218 - val_loss: -110.5588 - val_accuracy: 0.3409\n",
            "Epoch 17/50\n",
            "32/32 [==============================] - 23s 721ms/step - loss: -81.8675 - accuracy: 0.5139 - val_loss: -116.4828 - val_accuracy: 0.3409\n",
            "Epoch 18/50\n",
            "32/32 [==============================] - 23s 721ms/step - loss: -86.0697 - accuracy: 0.5159 - val_loss: -124.5506 - val_accuracy: 0.3352\n",
            "Epoch 19/50\n",
            "32/32 [==============================] - 23s 725ms/step - loss: -91.5294 - accuracy: 0.5099 - val_loss: -132.6055 - val_accuracy: 0.3352\n",
            "Epoch 20/50\n",
            "32/32 [==============================] - 23s 721ms/step - loss: -97.2910 - accuracy: 0.5079 - val_loss: -140.9169 - val_accuracy: 0.3239\n",
            "Epoch 21/50\n",
            "32/32 [==============================] - 23s 719ms/step - loss: -99.1756 - accuracy: 0.5198 - val_loss: -144.8253 - val_accuracy: 0.3352\n",
            "Epoch 22/50\n",
            "32/32 [==============================] - 23s 720ms/step - loss: -105.7779 - accuracy: 0.5119 - val_loss: -154.5139 - val_accuracy: 0.3295\n",
            "Epoch 23/50\n",
            "32/32 [==============================] - 23s 720ms/step - loss: -110.2895 - accuracy: 0.5119 - val_loss: -159.6232 - val_accuracy: 0.3352\n",
            "Epoch 24/50\n",
            "32/32 [==============================] - 23s 720ms/step - loss: -114.9393 - accuracy: 0.5139 - val_loss: -165.3396 - val_accuracy: 0.3295\n",
            "Epoch 25/50\n",
            "32/32 [==============================] - 23s 725ms/step - loss: -118.1244 - accuracy: 0.5198 - val_loss: -172.1412 - val_accuracy: 0.3352\n",
            "Epoch 26/50\n",
            "32/32 [==============================] - 23s 720ms/step - loss: -124.3484 - accuracy: 0.5159 - val_loss: -182.6709 - val_accuracy: 0.3182\n",
            "Epoch 27/50\n",
            "32/32 [==============================] - 23s 723ms/step - loss: -129.1139 - accuracy: 0.5159 - val_loss: -187.6966 - val_accuracy: 0.3295\n",
            "Epoch 28/50\n",
            "32/32 [==============================] - 23s 722ms/step - loss: -132.9842 - accuracy: 0.5159 - val_loss: -189.4990 - val_accuracy: 0.3409\n",
            "Epoch 29/50\n",
            "32/32 [==============================] - 23s 729ms/step - loss: -139.1266 - accuracy: 0.5139 - val_loss: -199.8770 - val_accuracy: 0.3352\n",
            "Epoch 30/50\n",
            "32/32 [==============================] - 23s 723ms/step - loss: -143.8348 - accuracy: 0.5139 - val_loss: -205.0671 - val_accuracy: 0.3352\n",
            "Epoch 31/50\n",
            "32/32 [==============================] - 23s 725ms/step - loss: -147.2951 - accuracy: 0.5179 - val_loss: -211.2322 - val_accuracy: 0.3352\n",
            "Epoch 32/50\n",
            "32/32 [==============================] - 23s 723ms/step - loss: -150.9949 - accuracy: 0.5198 - val_loss: -218.3365 - val_accuracy: 0.3409\n",
            "Epoch 33/50\n",
            "32/32 [==============================] - 23s 720ms/step - loss: -159.7732 - accuracy: 0.5079 - val_loss: -227.4298 - val_accuracy: 0.3295\n",
            "Epoch 34/50\n",
            "32/32 [==============================] - 23s 720ms/step - loss: -161.2279 - accuracy: 0.5179 - val_loss: -232.9920 - val_accuracy: 0.3352\n",
            "Epoch 35/50\n",
            "32/32 [==============================] - 23s 725ms/step - loss: -165.8936 - accuracy: 0.5159 - val_loss: -237.9779 - val_accuracy: 0.3352\n",
            "Epoch 36/50\n",
            "32/32 [==============================] - 23s 728ms/step - loss: -170.5924 - accuracy: 0.5159 - val_loss: -248.6517 - val_accuracy: 0.3295\n",
            "Epoch 37/50\n",
            "32/32 [==============================] - 23s 728ms/step - loss: -176.5045 - accuracy: 0.5159 - val_loss: -255.3273 - val_accuracy: 0.3295\n",
            "Epoch 38/50\n",
            "32/32 [==============================] - 23s 730ms/step - loss: -180.6806 - accuracy: 0.5159 - val_loss: -261.9676 - val_accuracy: 0.3295\n",
            "Epoch 39/50\n",
            "32/32 [==============================] - 23s 727ms/step - loss: -185.1111 - accuracy: 0.5159 - val_loss: -266.4140 - val_accuracy: 0.3352\n",
            "Epoch 40/50\n",
            "32/32 [==============================] - 23s 723ms/step - loss: -194.6248 - accuracy: 0.5060 - val_loss: -273.6542 - val_accuracy: 0.3352\n",
            "Epoch 41/50\n",
            "32/32 [==============================] - 23s 720ms/step - loss: -193.1359 - accuracy: 0.5198 - val_loss: -286.5730 - val_accuracy: 0.3239\n",
            "Epoch 42/50\n",
            "32/32 [==============================] - 23s 729ms/step - loss: -202.1634 - accuracy: 0.5119 - val_loss: -287.1230 - val_accuracy: 0.3295\n",
            "Epoch 43/50\n",
            "32/32 [==============================] - 23s 719ms/step - loss: -204.7523 - accuracy: 0.5159 - val_loss: -296.1829 - val_accuracy: 0.3295\n",
            "Epoch 44/50\n",
            "32/32 [==============================] - 23s 723ms/step - loss: -211.5525 - accuracy: 0.5099 - val_loss: -302.0712 - val_accuracy: 0.3295\n",
            "Epoch 45/50\n",
            "32/32 [==============================] - 23s 718ms/step - loss: -216.1579 - accuracy: 0.5139 - val_loss: -305.0056 - val_accuracy: 0.3409\n",
            "Epoch 46/50\n",
            "32/32 [==============================] - 23s 719ms/step - loss: -220.0485 - accuracy: 0.5139 - val_loss: -319.3133 - val_accuracy: 0.3239\n",
            "Epoch 47/50\n",
            "32/32 [==============================] - 23s 720ms/step - loss: -222.1089 - accuracy: 0.5179 - val_loss: -324.4011 - val_accuracy: 0.3295\n",
            "Epoch 48/50\n",
            "32/32 [==============================] - 23s 721ms/step - loss: -231.0842 - accuracy: 0.5119 - val_loss: -332.9076 - val_accuracy: 0.3239\n",
            "Epoch 49/50\n",
            "32/32 [==============================] - 23s 725ms/step - loss: -233.7739 - accuracy: 0.5139 - val_loss: -338.9469 - val_accuracy: 0.3239\n",
            "Epoch 50/50\n",
            "32/32 [==============================] - 23s 720ms/step - loss: -239.9680 - accuracy: 0.5099 - val_loss: -343.0114 - val_accuracy: 0.3295\n"
          ],
          "name": "stdout"
        }
      ]
    },
    {
      "cell_type": "markdown",
      "metadata": {
        "id": "H03-vrjudGsl",
        "colab_type": "text"
      },
      "source": [
        "# Custom CNN Model\n",
        "\n",
        "In this step, write and train your own convolutional neural network using Keras. You can use any architecture that suits you as long as it has at least one convolutional and one pooling layer at the beginning of the network - you can add more if you want. "
      ]
    },
    {
      "cell_type": "code",
      "metadata": {
        "id": "XNmnrOJBdGsl",
        "colab_type": "code",
        "colab": {}
      },
      "source": [
        "# Define the Model\n",
        "from keras.preprocessing.image import ImageDataGenerator\n",
        "\n",
        "datagen = ImageDataGenerator(\n",
        "        rotation_range=40,\n",
        "        width_shift_range=0.2,\n",
        "        height_shift_range=0.2,\n",
        "        rescale=1./255,\n",
        "        shear_range=0.2,\n",
        "        zoom_range=0.2,\n",
        "        horizontal_flip=True,\n",
        "        fill_mode='nearest')"
      ],
      "execution_count": 40,
      "outputs": []
    },
    {
      "cell_type": "code",
      "metadata": {
        "id": "FgVcj595dGso",
        "colab_type": "code",
        "colab": {
          "base_uri": "https://localhost:8080/",
          "height": 439
        },
        "outputId": "20555761-2447-4da1-9af8-15c7513be7db"
      },
      "source": [
        "from tensorflow.keras.models import Sequential, Model # <- May Use\n",
        "from tensorflow.keras.layers import Dense, Conv2D, MaxPooling2D, Flatten\n",
        "\n",
        "model = Sequential()\n",
        "model.add(Conv2D(32, (3,3), activation='relu', input_shape=(256,256,3)))\n",
        "model.add(MaxPooling2D((2,2)))\n",
        "model.add(Conv2D(32, (3,3), activation='relu'))\n",
        "model.add(MaxPooling2D((2,2)))\n",
        "model.add(Conv2D(64, (3,3), activation='relu'))\n",
        "model.add(Flatten())\n",
        "model.add(Dense(64, activation='relu'))\n",
        "# model.add(Dropout(0.5))\n",
        "# model.add(Dense(1))\n",
        "model.add(Dense(1, activation='sigmoid'))\n",
        "\n",
        "model.summary()"
      ],
      "execution_count": 41,
      "outputs": [
        {
          "output_type": "stream",
          "text": [
            "Model: \"sequential_1\"\n",
            "_________________________________________________________________\n",
            "Layer (type)                 Output Shape              Param #   \n",
            "=================================================================\n",
            "conv2d (Conv2D)              (None, 254, 254, 32)      896       \n",
            "_________________________________________________________________\n",
            "max_pooling2d (MaxPooling2D) (None, 127, 127, 32)      0         \n",
            "_________________________________________________________________\n",
            "conv2d_1 (Conv2D)            (None, 125, 125, 32)      9248      \n",
            "_________________________________________________________________\n",
            "max_pooling2d_1 (MaxPooling2 (None, 62, 62, 32)        0         \n",
            "_________________________________________________________________\n",
            "conv2d_2 (Conv2D)            (None, 60, 60, 64)        18496     \n",
            "_________________________________________________________________\n",
            "flatten (Flatten)            (None, 230400)            0         \n",
            "_________________________________________________________________\n",
            "dense_1 (Dense)              (None, 64)                14745664  \n",
            "_________________________________________________________________\n",
            "dense_2 (Dense)              (None, 1)                 65        \n",
            "=================================================================\n",
            "Total params: 14,774,369\n",
            "Trainable params: 14,774,369\n",
            "Non-trainable params: 0\n",
            "_________________________________________________________________\n"
          ],
          "name": "stdout"
        }
      ]
    },
    {
      "cell_type": "code",
      "metadata": {
        "id": "KWCotmaodGsr",
        "colab_type": "code",
        "colab": {}
      },
      "source": [
        "model.compile(optimizer='rmsprop', loss='binary_crossentropy', metrics=['accuracy'])"
      ],
      "execution_count": 42,
      "outputs": []
    },
    {
      "cell_type": "code",
      "metadata": {
        "id": "_iJVKfx0oB8w",
        "colab_type": "code",
        "colab": {
          "base_uri": "https://localhost:8080/",
          "height": 167
        },
        "outputId": "997acd23-3ed7-40dd-a1bd-a29c92edece2"
      },
      "source": [
        "model.fit(X_train, y_train, epochs=3, validation_data=(X_test, y_test))"
      ],
      "execution_count": 43,
      "outputs": [
        {
          "output_type": "error",
          "ename": "NameError",
          "evalue": "ignored",
          "traceback": [
            "\u001b[0;31m---------------------------------------------------------------------------\u001b[0m",
            "\u001b[0;31mNameError\u001b[0m                                 Traceback (most recent call last)",
            "\u001b[0;32m<ipython-input-43-803a1f1f4440>\u001b[0m in \u001b[0;36m<module>\u001b[0;34m()\u001b[0m\n\u001b[0;32m----> 1\u001b[0;31m \u001b[0mmodel\u001b[0m\u001b[0;34m.\u001b[0m\u001b[0mfit\u001b[0m\u001b[0;34m(\u001b[0m\u001b[0mX_train\u001b[0m\u001b[0;34m,\u001b[0m \u001b[0my_train\u001b[0m\u001b[0;34m,\u001b[0m \u001b[0mepochs\u001b[0m\u001b[0;34m=\u001b[0m\u001b[0;36m3\u001b[0m\u001b[0;34m,\u001b[0m \u001b[0mvalidation_data\u001b[0m\u001b[0;34m=\u001b[0m\u001b[0;34m(\u001b[0m\u001b[0mX_test\u001b[0m\u001b[0;34m,\u001b[0m \u001b[0my_test\u001b[0m\u001b[0;34m)\u001b[0m\u001b[0;34m)\u001b[0m\u001b[0;34m\u001b[0m\u001b[0;34m\u001b[0m\u001b[0m\n\u001b[0m",
            "\u001b[0;31mNameError\u001b[0m: name 'X_train' is not defined"
          ]
        }
      ]
    },
    {
      "cell_type": "markdown",
      "metadata": {
        "id": "wBldPCVEdGsu",
        "colab_type": "text"
      },
      "source": [
        "# Custom CNN Model with Image Manipulations\n",
        "\n",
        "To simulate an increase in a sample of image, you can apply image manipulation techniques: cropping, rotation, stretching, etc. Luckily Keras has some handy functions for us to apply these techniques to our mountain and forest example. Simply, you should be able to modify our image generator for the problem. Check out these resources to help you get started: \n",
        "\n",
        "1. [Keras `ImageGenerator` Class](https://keras.io/preprocessing/image/#imagedatagenerator-class)\n",
        "2. [Building a powerful image classifier with very little data](https://blog.keras.io/building-powerful-image-classification-models-using-very-little-data.html)\n",
        " "
      ]
    },
    {
      "cell_type": "code",
      "metadata": {
        "id": "t3R3sZ6RdGsu",
        "colab_type": "code",
        "colab": {}
      },
      "source": [
        ""
      ],
      "execution_count": null,
      "outputs": []
    },
    {
      "cell_type": "markdown",
      "metadata": {
        "colab_type": "text",
        "id": "uT3UV3gap9H6"
      },
      "source": [
        "# Resources and Stretch Goals\n",
        "\n",
        "Stretch goals\n",
        "- Enhance your code to use classes/functions and accept terms to search and classes to look for in recognizing the downloaded images (e.g. download images of parties, recognize all that contain balloons)\n",
        "- Check out [other available pretrained networks](https://tfhub.dev), try some and compare\n",
        "- Image recognition/classification is somewhat solved, but *relationships* between entities and describing an image is not - check out some of the extended resources (e.g. [Visual Genome](https://visualgenome.org/)) on the topic\n",
        "- Transfer learning - using images you source yourself, [retrain a classifier](https://www.tensorflow.org/hub/tutorials/image_retraining) with a new category\n",
        "- (Not CNN related) Use [piexif](https://pypi.org/project/piexif/) to check out the metadata of images passed in to your system - see if they're from a national park! (Note - many images lack GPS metadata, so this won't work in most cases, but still cool)\n",
        "\n",
        "Resources\n",
        "- [Deep Residual Learning for Image Recognition](https://arxiv.org/abs/1512.03385) - influential paper (introduced ResNet)\n",
        "- [YOLO: Real-Time Object Detection](https://pjreddie.com/darknet/yolo/) - an influential convolution based object detection system, focused on inference speed (for applications to e.g. self driving vehicles)\n",
        "- [R-CNN, Fast R-CNN, Faster R-CNN, YOLO](https://towardsdatascience.com/r-cnn-fast-r-cnn-faster-r-cnn-yolo-object-detection-algorithms-36d53571365e) - comparison of object detection systems\n",
        "- [Common Objects in Context](http://cocodataset.org/) - a large-scale object detection, segmentation, and captioning dataset\n",
        "- [Visual Genome](https://visualgenome.org/) - a dataset, a knowledge base, an ongoing effort to connect structured image concepts to language"
      ]
    }
  ]
}